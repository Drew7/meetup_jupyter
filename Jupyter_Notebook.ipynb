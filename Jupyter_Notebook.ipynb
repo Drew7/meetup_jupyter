{
 "cells": [
  {
   "cell_type": "markdown",
   "metadata": {
    "slideshow": {
     "slide_type": "slide"
    }
   },
   "source": [
    "# Jupyter Notebook: Architecture and Usage Practice\n",
    "\n",
    "Nikolay Karelin, PhD\n",
    "\n",
    "Lead Developer, CIB Software"
   ]
  },
  {
   "cell_type": "markdown",
   "metadata": {
    "slideshow": {
     "slide_type": "slide"
    }
   },
   "source": [
    "# CIB Software\n",
    "\n",
    "![CIB Software](pictures/cib_logo.png)\n",
    "\n",
    "CIB software is a Belarusian R&D and representative center of CIB group of companies (Germany). Founded in 1989 in Munich, CIB group is involved in manufacturing of software products and providing high-end digital solutions in document management, finance, publishing, and other areas. 180 employees in 6 offices serve more than 300 B2B and 160.000 B2C customers across Europe.\n",
    "\n",
    "Machine Learning and Python are used at CIB for advanced document processing and analysis, including image processing, NLP and Deep Learning algorithms."
   ]
  },
  {
   "cell_type": "markdown",
   "metadata": {
    "collapsed": true,
    "slideshow": {
     "slide_type": "slide"
    }
   },
   "source": [
    "The talk is about the main principles of Jupyter notebooks and how these principles\n",
    "influence the practice of Jupyter use. The aim of the presentation is to give some\n",
    "understanding on how the different features of the Jupyter platform are related and how\n",
    "use the Jupyter efficiently in everyday data processing tasks.\n",
    "\n",
    "## Overview\n",
    "\n",
    "* Introduction\n",
    "  * Why Jupyter?\n",
    "  * A bit of history\n",
    "  * Example\n",
    "  * Python scientific stack\n",
    "  * Documentation\n",
    "* Architecture\n",
    "* Live document\n",
    "* Data science front-end"
   ]
  },
  {
   "cell_type": "markdown",
   "metadata": {
    "slideshow": {
     "slide_type": "slide"
    }
   },
   "source": [
    "http://jupyter.org/index.html\n",
    "\n",
    "![Project_Jupyter](pictures/Project_Jupyter.png)"
   ]
  },
  {
   "cell_type": "markdown",
   "metadata": {
    "slideshow": {
     "slide_type": "slide"
    }
   },
   "source": [
    "http://jupyter.org/index.html\n",
    "\n",
    "> The Jupyter Notebook is a web application that allows you to create and share documents that contain live code, equations, visualizations and explanatory text. Uses include: data cleaning and transformation, numerical simulation, statistical modeling, machine learning and much more.\n",
    "\n",
    "https://talkpython.fm/episodes/show/44/project-jupyter-and-ipython\n",
    "\n",
    "> * Interactive computing\n",
    "> * Reproducible research\n",
    "> * Software-based communication"
   ]
  },
  {
   "cell_type": "markdown",
   "metadata": {
    "slideshow": {
     "slide_type": "slide"
    }
   },
   "source": [
    "# Usage\n",
    "\n",
    "`pip install jupyter`\n",
    "\n",
    "Anaconda: built-in\n",
    "\n",
    "`jupyter notebook --port 80`"
   ]
  },
  {
   "cell_type": "markdown",
   "metadata": {
    "slideshow": {
     "slide_type": "slide"
    }
   },
   "source": [
    "# Simplest example\n",
    "\n",
    "Let's plot the function \n",
    "\n",
    "$$y = \\frac{sin(\\pi x)}{\\pi x}$$\n",
    "\n",
    "for $x$ in $[-2.0, 2.0]$"
   ]
  },
  {
   "cell_type": "code",
   "execution_count": 1,
   "metadata": {
    "collapsed": true
   },
   "outputs": [],
   "source": [
    "import numpy as np\n",
    "# import matplotlib as mpl\n",
    "from matplotlib import pyplot as plt\n",
    "\n",
    "plt.rcParams['figure.figsize'] = (10,10)\n",
    "\n",
    "%matplotlib inline"
   ]
  },
  {
   "cell_type": "code",
   "execution_count": 2,
   "metadata": {
    "slideshow": {
     "slide_type": "slide"
    }
   },
   "outputs": [
    {
     "data": {
      "text/plain": [
       "[<matplotlib.lines.Line2D at 0x6ef1f57f98>]"
      ]
     },
     "execution_count": 2,
     "metadata": {},
     "output_type": "execute_result"
    },
    {
     "data": {
      "image/png": "[encoded data removed]",
      "text/plain": [
       "<matplotlib.figure.Figure at 0x6ef1c6fe80>"
      ]
     },
     "metadata": {},
     "output_type": "display_data"
    }
   ],
   "source": [
    "x = np.linspace(-2.0, 2.0, 100)\n",
    "y = np.sinc(x)\n",
    "\n",
    "plt.plot(x, y)"
   ]
  },
  {
   "cell_type": "markdown",
   "metadata": {
    "slideshow": {
     "slide_type": "slide"
    }
   },
   "source": [
    "# Try\n",
    "\n",
    "![try jupyter](pictures/tryjupyter_file.png)\n",
    "\n",
    "https://try.jupyter.org/"
   ]
  },
  {
   "cell_type": "markdown",
   "metadata": {
    "slideshow": {
     "slide_type": "slide"
    }
   },
   "source": [
    "# History\n",
    "\n",
    "http://blog.fperez.org/2012/01/ipython-notebook-historical.html\n",
    "\n",
    "* 2001 - IPython 0.0.1, https://gist.github.com/fperez/1579699\n",
    "* 2006-2007 - First notebook attempt (similar to Sage)\n",
    "* 2011 - Qt console, Kernel/UI separation\n",
    "* December 2011 - IPython Notebook was added to IPython in the 0.12 release\n",
    "* 2014 - Project Jupyter (big split: **Ju**lia, **Pyt**hon, **R**)\n",
    "\n",
    "> As of IPython 4.0, the language-agnostic parts of the project: the notebook format, message protocol, qtconsole, notebook web application, etc. have moved to new projects under the name Jupyter. IPython itself is focused on interactive Python, part of which is providing a Python kernel for Jupyter."
   ]
  },
  {
   "cell_type": "markdown",
   "metadata": {
    "slideshow": {
     "slide_type": "slide"
    }
   },
   "source": [
    "# IPython/Jupyter idea\n",
    "\n",
    "* Literate computing\n",
    "* Reproducible research\n",
    "* Notebook as Excel replacement\n",
    "\n",
    "http://blog.fperez.org/2013/04/literate-computing-and-computational.html"
   ]
  },
  {
   "cell_type": "markdown",
   "metadata": {
    "slideshow": {
     "slide_type": "fragment"
    }
   },
   "source": [
    "## Influenced by:"
   ]
  },
  {
   "cell_type": "markdown",
   "metadata": {
    "slideshow": {
     "slide_type": "fragment"
    }
   },
   "source": [
    "* Wolfram Mathematica"
   ]
  },
  {
   "cell_type": "markdown",
   "metadata": {
    "slideshow": {
     "slide_type": "fragment"
    }
   },
   "source": [
    "* Maple"
   ]
  },
  {
   "cell_type": "markdown",
   "metadata": {
    "slideshow": {
     "slide_type": "fragment"
    }
   },
   "source": [
    "* MathCad"
   ]
  },
  {
   "cell_type": "markdown",
   "metadata": {
    "slideshow": {
     "slide_type": "fragment"
    }
   },
   "source": [
    "* Sage"
   ]
  },
  {
   "cell_type": "markdown",
   "metadata": {
    "slideshow": {
     "slide_type": "slide"
    }
   },
   "source": [
    "# Overview\n",
    "\n",
    "* Introduction\n",
    "* **Architecture**\n",
    "  * Main components\n",
    "  * Client-server by default\n",
    "  * Limitations and security\n",
    "  * Available languages\n",
    "* Live document\n",
    "* Data science front-end\n"
   ]
  },
  {
   "cell_type": "markdown",
   "metadata": {
    "slideshow": {
     "slide_type": "slide"
    }
   },
   "source": [
    "# Architecture\n",
    "\n",
    "![Notebook Components](pictures/notebook_components.png)\n",
    "\n",
    "https://jupyter.readthedocs.io/en/latest/architecture/how_jupyter_ipython_work.html"
   ]
  },
  {
   "cell_type": "markdown",
   "metadata": {
    "slideshow": {
     "slide_type": "slide"
    }
   },
   "source": [
    "# Structure\n",
    "\n",
    "* IPython\n",
    "* ØMQ, http://zeromq.org/\n",
    "* Tornado, http://www.tornadoweb.org\n",
    "* jQuery, https://jquery.com/\n",
    "* Bootstrap, http://getbootstrap.com/ \n",
    "* MathJax, https://www.mathjax.org/\n",
    "\n",
    "* `.ipynb`, JSON format"
   ]
  },
  {
   "cell_type": "markdown",
   "metadata": {
    "slideshow": {
     "slide_type": "slide"
    }
   },
   "source": [
    "# Features\n",
    "\n",
    "* Languates beyond Python\n",
    "  * https://github.com/ipython/ipython/wiki/IPython%20kernels%20for%20other%20languages\n",
    "  * Protocol implementation or wrapper\n",
    "  * How widespread???"
   ]
  },
  {
   "cell_type": "markdown",
   "metadata": {
    "slideshow": {
     "slide_type": "fragment"
    }
   },
   "source": [
    "* UI for free"
   ]
  },
  {
   "cell_type": "markdown",
   "metadata": {
    "slideshow": {
     "slide_type": "fragment"
    }
   },
   "source": [
    "* Not only dynamic languages"
   ]
  },
  {
   "cell_type": "markdown",
   "metadata": {
    "slideshow": {
     "slide_type": "fragment"
    }
   },
   "source": [
    "* Client-server"
   ]
  },
  {
   "cell_type": "markdown",
   "metadata": {
    "slideshow": {
     "slide_type": "fragment"
    }
   },
   "source": [
    "* Parallelization / clustering"
   ]
  },
  {
   "cell_type": "markdown",
   "metadata": {
    "slideshow": {
     "slide_type": "slide"
    }
   },
   "source": [
    "# Input/Output History\n",
    "\n",
    " * `_i`, `_ii`, `_iii`: store previous, next previous and next-next previous inputs\n",
    " * `In`, `_ih`: a list of all inputs\n",
    " * `_` (a single underscore): stores previous output, like Python’s default interpreter\n",
    " * `__` (two underscores): next previous\n",
    " * `___` (three underscores): next-next previous\n",
    " * `_21`: 21st output\n",
    " * `Out`, or `_oh`: list of all outputs\n",
    " \n",
    "http://ipython.readthedocs.io/en/stable/interactive/reference.html"
   ]
  },
  {
   "cell_type": "markdown",
   "metadata": {
    "slideshow": {
     "slide_type": "fragment"
    }
   },
   "source": [
    "## What the caveat???"
   ]
  },
  {
   "cell_type": "code",
   "execution_count": 3,
   "metadata": {
    "slideshow": {
     "slide_type": "slide"
    }
   },
   "outputs": [
    {
     "name": "stdout",
     "output_type": "stream",
     "text": [
      "import numpy as np\n",
      "# import matplotlib as mpl\n",
      "from matplotlib import pyplot as plt\n",
      "\n",
      "plt.rcParams['figure.figsize'] = (10,10)\n",
      "\n",
      "get_ipython().magic('matplotlib inline')\n"
     ]
    }
   ],
   "source": [
    "print(bytes(In[1], \"utf-8\").decode('unicode_escape'))"
   ]
  },
  {
   "cell_type": "code",
   "execution_count": 4,
   "metadata": {
    "slideshow": {
     "slide_type": "fragment"
    }
   },
   "outputs": [
    {
     "data": {
      "text/plain": [
       "96"
      ]
     },
     "execution_count": 4,
     "metadata": {},
     "output_type": "execute_result"
    }
   ],
   "source": [
    "import sys\n",
    "\n",
    "sys.getsizeof(Out[2])"
   ]
  },
  {
   "cell_type": "markdown",
   "metadata": {
    "slideshow": {
     "slide_type": "slide"
    }
   },
   "source": [
    "# Books\n",
    "\n",
    "Learning IPython for Interactive ... | IPython Interactive Computing ... Cookbook | Python for Data Analysis\n",
    ":---: | :---: | :---:\n",
    "![IPython Book](pictures/ipython-book.jpg) | ![IPython Cookbook](pictures/ipython-cookbook.jpg) | ![Python for Data Analysis](pictures/python_data_analysis_2nd.png)\n",
    "\n",
    "https://ipython.org/books.html"
   ]
  },
  {
   "cell_type": "markdown",
   "metadata": {
    "slideshow": {
     "slide_type": "slide"
    }
   },
   "source": [
    "Mastering IPython 4.0 | Learning Jupyter\n",
    ":---: | :---: \n",
    "![Mastering IPython](pictures/mastering-ipython-book.jpg) | ![Learning Jupyter](pictures/learning-jupyter-book.png)\n",
    "\n",
    "https://ipython.org/books.html"
   ]
  },
  {
   "cell_type": "markdown",
   "metadata": {
    "slideshow": {
     "slide_type": "slide"
    }
   },
   "source": [
    "# Docs, intro\n",
    "\n",
    "* https://jupyter.readthedocs.io/\n",
    "  * Work in progress\n",
    "  * Many parts from IPython\n",
    "  \n",
    "  \n",
    "* Project docs\n",
    "  * http://jupyter-notebook.readthedocs.io/\n",
    "  * http://jupyter_console.readthedocs.io/\n",
    "  * https://qtconsole.readthedocs.io/\n",
    "  * https://ipywidgets.readthedocs.io/\n",
    "  * https://ipyparallel.readthedocs.io/\n",
    "  * ...\n",
    "    \n",
    "  \n",
    "* http://arogozhnikov.github.io/2016/09/10/jupyter-features.html"
   ]
  },
  {
   "cell_type": "markdown",
   "metadata": {
    "slideshow": {
     "slide_type": "slide"
    }
   },
   "source": [
    "# Overview\n",
    "\n",
    "* Introduction\n",
    "* Architecture\n",
    "* **Live document**\n",
    "  * Document and code\n",
    "  * Use of closed libraries\n",
    "  * Version control\n",
    "  * `nbviever` / `nbconvert`\n",
    "* Data science front-end\n"
   ]
  },
  {
   "cell_type": "markdown",
   "metadata": {
    "slideshow": {
     "slide_type": "slide"
    }
   },
   "source": [
    "# Team work and information exchange"
   ]
  },
  {
   "cell_type": "markdown",
   "metadata": {
    "slideshow": {
     "slide_type": "fragment"
    }
   },
   "source": [
    "* Code"
   ]
  },
  {
   "cell_type": "markdown",
   "metadata": {
    "slideshow": {
     "slide_type": "fragment"
    }
   },
   "source": [
    "* Explanations\n",
    "  * Why?\n",
    "  * How?\n",
    "  * References"
   ]
  },
  {
   "cell_type": "markdown",
   "metadata": {
    "slideshow": {
     "slide_type": "slide"
    }
   },
   "source": [
    "# Notebook format\n",
    "\n",
    "* JSON-based\n",
    "* VCS-compatible"
   ]
  },
  {
   "cell_type": "markdown",
   "metadata": {
    "slideshow": {
     "slide_type": "fragment"
    }
   },
   "source": [
    "* Outputs!\n",
    "* Team work for\n",
    "  * Special hardware (GPU)\n",
    "  * Proprietary/specialized software\n",
    "* VCS issues (encoded blobs)\n",
    "  * `nbdime` package"
   ]
  },
  {
   "cell_type": "markdown",
   "metadata": {
    "slideshow": {
     "slide_type": "slide"
    }
   },
   "source": [
    "# nbviewer\n",
    "\n",
    "![Notebook Viewer](pictures/Notebook_Viewer.jpg)\n",
    "\n",
    "https://nbviewer.jupyter.org/"
   ]
  },
  {
   "cell_type": "markdown",
   "metadata": {
    "slideshow": {
     "slide_type": "slide"
    }
   },
   "source": [
    "# nbconvert\n",
    "\n",
    "* Output formats\n",
    "  * HTML, RST, MarkDown\n",
    "  * Slideshow (`reveal.js`)\n",
    "  * `.py` file\n",
    "  * LaTeX, PDF, ...\n",
    "* Use-cases\n",
    "  * From exploration to production\n",
    "  * Presentations\n",
    "  * Books, papers, ..."
   ]
  },
  {
   "cell_type": "markdown",
   "metadata": {
    "slideshow": {
     "slide_type": "slide"
    }
   },
   "source": [
    "# Slides\n",
    "\n",
    "**Idea:** Notebooks are just JSON files\n",
    "\n",
    "* `jupyter nbconvert \"From IPython to Jupyter.ipynb\" --to slides --post serve`\n",
    "\n",
    "\n",
    "* Special cell types\n",
    "* `reveal.js`, https://github.com/hakimel/reveal.js/\n",
    "\n",
    "\n",
    "* Example: http://www.slideviper.oquanta.info/tutorial/slideshow_tutorial_slides.html\n",
    "* Intro: http://www.damian.oquanta.info/posts/make-your-slides-with-ipython.html\n",
    "* Custom templates: http://www.damian.oquanta.info/posts/customizing-your-ipython-slides.html\n",
    "* Templating: http://www.damian.oquanta.info/posts/change-the-ipython-slides-defaults-with-an-ipython-config-file.html\n",
    "* `nbconvert` doc: http://nbconvert.readthedocs.io/en/latest/usage.html"
   ]
  },
  {
   "cell_type": "markdown",
   "metadata": {
    "slideshow": {
     "slide_type": "slide"
    }
   },
   "source": [
    "# Overview\n",
    "\n",
    "* Introduction\n",
    "* Architecture\n",
    "* Live document\n",
    "* **Data science front-end**\n",
    "  * Extensibility\n",
    "  * `ipywidgets`\n",
    "  * Interactive plotting\n",
    "  * Mapping"
   ]
  },
  {
   "cell_type": "markdown",
   "metadata": {
    "slideshow": {
     "slide_type": "slide"
    }
   },
   "source": [
    "# Final notes"
   ]
  },
  {
   "cell_type": "markdown",
   "metadata": {
    "slideshow": {
     "slide_type": "slide"
    }
   },
   "source": [
    "![Nobel Prize in Physics 2017](pictures/focus_2017_nobel-prize_physics-winners_2.jpg)\n",
    "\n",
    "https://en.unesco.org/news/2017-nobel-prize-physics-recognises-observation-gravitational-waves"
   ]
  },
  {
   "cell_type": "markdown",
   "metadata": {
    "slideshow": {
     "slide_type": "slide"
    }
   },
   "source": [
    "https://losc.ligo.org/tutorials/\n",
    "\n",
    "![Gravitational wave](pictures/nobel_prize_chart.png)\n",
    "\n",
    "* https://losc.ligo.org/tutorials/\n",
    "* https://notebooks.azure.com/losc/libraries/tutorials/html/LOSC_Event_tutorial.ipynb"
   ]
  },
  {
   "cell_type": "markdown",
   "metadata": {
    "slideshow": {
     "slide_type": "slide"
    }
   },
   "source": [
    "# Thank you\n",
    "\n",
    "Nikolay Karelin\n",
    "\n",
    "skype:nkarelin\n",
    "\n",
    "Slides:\n",
    "https://github.com/karelin/meetup_jupyter"
   ]
  },
  {
   "cell_type": "markdown",
   "metadata": {
    "slideshow": {
     "slide_type": "slide"
    }
   },
   "source": [
    "# Questions?"
   ]
  }
 ],
 "metadata": {
  "anaconda-cloud": {},
  "celltoolbar": "Slideshow",
  "kernelspec": {
   "display_name": "Python (env)",
   "language": "python",
   "name": ".env"
  },
  "language_info": {
   "codemirror_mode": {
    "name": "ipython",
    "version": 3
   },
   "file_extension": ".py",
   "mimetype": "text/x-python",
   "name": "python",
   "nbconvert_exporter": "python",
   "pygments_lexer": "ipython3",
   "version": "3.6.2"
  }
 },
 "nbformat": 4,
 "nbformat_minor": 1
}
