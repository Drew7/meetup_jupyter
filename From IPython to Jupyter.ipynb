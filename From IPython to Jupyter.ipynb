{
 "cells": [
  {
   "cell_type": "markdown",
   "metadata": {
    "slideshow": {
     "slide_type": "slide"
    }
   },
   "source": [
    "# From IPython to Jupyter\n",
    "\n",
    "... how the attempt to make the standard Python console better lead to a new ecosystem for intercative computing, with support of multiple languages, ... and also how this relates to a big money and at least one legend programmer."
   ]
  },
  {
   "cell_type": "markdown",
   "metadata": {
    "collapsed": true,
    "slideshow": {
     "slide_type": "slide"
    }
   },
   "source": [
    "## Overview\n",
    "\n",
    "* What is Jupyter\n",
    "* A bit of history\n",
    "* Structure\n",
    "* Usage\n",
    "* Extensions\n",
    "* Furure?"
   ]
  },
  {
   "cell_type": "markdown",
   "metadata": {
    "slideshow": {
     "slide_type": "slide"
    }
   },
   "source": [
    "http://jupyter.org/index.html\n",
    "\n",
    "![Project_Jupyter](Project_Jupyter.png)"
   ]
  },
  {
   "cell_type": "markdown",
   "metadata": {
    "slideshow": {
     "slide_type": "slide"
    }
   },
   "source": [
    "http://jupyter.org/index.html\n",
    "\n",
    "> The Jupyter Notebook is a web application that allows you to create and share documents that contain live code, equations, visualizations and explanatory text. Uses include: data cleaning and transformation, numerical simulation, statistical modeling, machine learning and much more."
   ]
  },
  {
   "cell_type": "markdown",
   "metadata": {
    "slideshow": {
     "slide_type": "slide"
    }
   },
   "source": [
    "# Simplest example\n",
    "\n",
    "Let's plot the function \n",
    "\n",
    "$$y = \\frac{sin(\\pi x)}{\\pi x}$$\n",
    "\n",
    "for x in [-2.0, 2.0]"
   ]
  },
  {
   "cell_type": "code",
   "execution_count": 1,
   "metadata": {
    "collapsed": true
   },
   "outputs": [],
   "source": [
    "import numpy as np\n",
    "from matplotlib import pyplot as plt\n",
    "\n",
    "%matplotlib inline"
   ]
  },
  {
   "cell_type": "code",
   "execution_count": 2,
   "metadata": {
    "collapsed": false,
    "slideshow": {
     "slide_type": "slide"
    }
   },
   "outputs": [
    {
     "data": {
      "text/plain": [
       "[<matplotlib.lines.Line2D at 0x94d22d1320>]"
      ]
     },
     "execution_count": 2,
     "metadata": {},
     "output_type": "execute_result"
    },
    {
     "data": {
      "image/png": "[encoded data removed]",
      "text/plain": [
       "<matplotlib.figure.Figure at 0x94d2217f98>"
      ]
     },
     "metadata": {},
     "output_type": "display_data"
    }
   ],
   "source": [
    "x = np.linspace(-2.0, 2.0, 100)\n",
    "y = np.sinc(x)\n",
    "\n",
    "plt.plot(x, y)"
   ]
  },
  {
   "cell_type": "markdown",
   "metadata": {
    "slideshow": {
     "slide_type": "slide"
    }
   },
   "source": [
    "# History\n",
    "\n",
    "http://blog.fperez.org/2012/01/ipython-notebook-historical.html\n",
    "\n",
    "* 2001 - IPython 0.0.1, https://gist.github.com/fperez/1579699\n",
    "* 2006-2007 - First notebook attempt (similar to Sage)\n",
    "* December 2011 - IPython Notebook was added to IPython in the 0.12 release\n",
    "* 2014 - (spin-off) Project Jupyter\n",
    "\n",
    "> As of IPython 4.0, the language-agnostic parts of the project: the notebook format, message protocol, qtconsole, notebook web application, etc. have moved to new projects under the name Jupyter. IPython itself is focused on interactive Python, part of which is providing a Python kernel for Jupyter."
   ]
  },
  {
   "cell_type": "markdown",
   "metadata": {
    "slideshow": {
     "slide_type": "slide"
    }
   },
   "source": [
    "# Structure\n",
    "\n",
    "![Notebook Components](notebook_components.png)\n",
    "\n",
    "https://jupyter.readthedocs.io/en/latest/architecture/how_jupyter_ipython_work.html"
   ]
  },
  {
   "cell_type": "markdown",
   "metadata": {
    "slideshow": {
     "slide_type": "slide"
    }
   },
   "source": [
    "# Structure\n",
    "\n",
    "* IPython\n",
    "* ØMQ, http://zeromq.org/\n",
    "* Tornado, http://www.tornadoweb.org\n",
    "* jQuery, https://jquery.com/\n",
    "* Bootstrap, http://getbootstrap.com/ \n",
    "* MathJax, https://www.mathjax.org/\n",
    "\n",
    "## Projects\n",
    "\n",
    "https://github.com/ipython/ipython/wiki/Projects-using-IPython\n",
    "\n",
    "## Languages\n",
    "\n",
    "https://github.com/ipython/ipython/wiki/IPython%20kernels%20for%20other%20languages"
   ]
  },
  {
   "cell_type": "markdown",
   "metadata": {
    "slideshow": {
     "slide_type": "slide"
    }
   },
   "source": [
    "# Big Money # 1: ZMQ \n",
    "\n",
    " * Started as a AMQP (http://www.amqp.org/) implementation\n",
    "   > a financial industry attempt to standardise the wire protocol for business messaging\n",
    " * Final implementation: BSD socket 'on steroids'\n",
    " \n",
    "http://www.aosabook.org/en/zeromq.html"
   ]
  },
  {
   "cell_type": "markdown",
   "metadata": {
    "slideshow": {
     "slide_type": "slide"
    }
   },
   "source": [
    "# Legend Programmer\n",
    "\n",
    "![Donald Knuth](don.gif)\n",
    "\n",
    "http://www-cs-staff.stanford.edu/~uno/"
   ]
  },
  {
   "cell_type": "markdown",
   "metadata": {
    "slideshow": {
     "slide_type": "slide"
    }
   },
   "source": [
    "## Art of Computer Programming\n",
    "\n",
    "![Art of Computer Programming](ArtOfComputerProgramming.jpg)\n",
    "\n",
    "By http://www.amazon.com/Art-Computer-Programming-Fundamental-Algorithms/dp/0201896834"
   ]
  },
  {
   "cell_type": "markdown",
   "metadata": {
    "slideshow": {
     "slide_type": "slide"
    }
   },
   "source": [
    "## TeX\n",
    "\n",
    "`The quadratic formula is $$-b \\pm \\sqrt{b^2 - 4ac} \\over 2a$$`\n",
    "\n",
    "The quadratic formula is $$-b \\pm \\sqrt{b^2 - 4ac} \\over 2a$$\n",
    "\n",
    "https://en.wikipedia.org/wiki/TeX\n",
    "\n",
    "## Literate Programming\n",
    "\n",
    "     The grand totals must be initialized to zero at the beginning of the program.\n",
    "    If we made these variables local to main, we would have to do this  initialization\n",
    "    explicitly; however, C globals are automatically zeroed. (Or rather,``statically\n",
    "    zeroed.'' (Get it?)\n",
    "\n",
    "        <<Global variables>>+=\n",
    "        long tot_word_count, tot_line_count,\n",
    "             tot_char_count;\n",
    "          /* total number of words, lines, chars */\n",
    "        @\n",
    "\n",
    "https://en.wikipedia.org/wiki/Literate_programming"
   ]
  },
  {
   "cell_type": "markdown",
   "metadata": {
    "slideshow": {
     "slide_type": "slide"
    }
   },
   "source": [
    "# IPython\n",
    "\n",
    "* Literate computing\n",
    "* Reproducible research\n",
    "* Notebook as Excel replacement\n",
    "\n",
    "http://blog.fperez.org/2013/04/literate-computing-and-computational.html"
   ]
  },
  {
   "cell_type": "markdown",
   "metadata": {
    "slideshow": {
     "slide_type": "slide"
    }
   },
   "source": [
    "# Usage\n",
    "\n",
    "`pip install jupyter`\n",
    "\n",
    "Anaconda: built-in\n",
    "\n",
    "`jupyter notebook --port 80`"
   ]
  },
  {
   "cell_type": "markdown",
   "metadata": {
    "slideshow": {
     "slide_type": "slide"
    }
   },
   "source": [
    "# Try\n",
    "\n",
    "![try jupyter](tryjupyter_file.png)\n",
    "\n",
    "https://try.jupyter.org/"
   ]
  },
  {
   "cell_type": "markdown",
   "metadata": {
    "slideshow": {
     "slide_type": "slide"
    }
   },
   "source": [
    "![try notebook](trynb.png)"
   ]
  },
  {
   "cell_type": "markdown",
   "metadata": {
    "slideshow": {
     "slide_type": "slide"
    }
   },
   "source": [
    "# nbviewer\n",
    "\n",
    "![Notebook Viewer](Notebook_Viewer.jpg)\n",
    "\n",
    "https://nbviewer.jupyter.org/"
   ]
  },
  {
   "cell_type": "markdown",
   "metadata": {
    "slideshow": {
     "slide_type": "slide"
    }
   },
   "source": [
    "# Keyboard\n",
    "\n",
    "  * <kbd>Shift</kbd>+<kbd>Enter</kbd>: run cell, select below\n",
    "  * <kbd>Ctrl</kbd>+<kbd>Enter</kbd>: run selected cells\n",
    "  * <kbd>Alt</kbd>+<kbd>Enter</kbd>: run cell, insert below\n",
    "\n",
    "  * <kbd>Ctrl</kbd>+<kbd>S</kbd>: Save and Checkpoint\n",
    "\n",
    "## Command mode\n",
    "\n",
    "  * <kbd>H</kbd>: help\n",
    "  * <kbd>Enter</kbd>: edit mode\n",
    "\n",
    "## Edit mode\n",
    "\n",
    "  * <kbd>Esc</kbd>: command mode\n",
    "  * <kbd>Tab</kbd>: code completion or indent\n",
    "\n",
    "List is extended from time to time"
   ]
  },
  {
   "cell_type": "markdown",
   "metadata": {
    "slideshow": {
     "slide_type": "slide"
    }
   },
   "source": [
    "# History: Inputs/Outputs\n",
    "\n",
    " * `_i`, `_ii`, `_iii`: store previous, next previous and next-next previous inputs\n",
    " * `In`, `_ih`: a list of all inputs\n",
    " * `_` (a single underscore): stores previous output, like Python’s default interpreter\n",
    " * `__` (two underscores): next previous\n",
    " * `___` (three underscores): next-next previous\n",
    " * `_21`: 21st output\n",
    " * `Out`, or `_oh`: list of all outputs\n",
    " \n",
    "http://ipython.readthedocs.io/en/stable/interactive/reference.html"
   ]
  },
  {
   "cell_type": "markdown",
   "metadata": {
    "slideshow": {
     "slide_type": "slide"
    }
   },
   "source": [
    "# Magic commands"
   ]
  },
  {
   "cell_type": "code",
   "execution_count": 7,
   "metadata": {
    "collapsed": false
   },
   "outputs": [
    {
     "data": {
      "application/json": {
       "cell": {
        "!": "OSMagics",
        "HTML": "Other",
        "SVG": "Other",
        "bash": "Other",
        "capture": "ExecutionMagics",
        "cmd": "Other",
        "debug": "ExecutionMagics",
        "file": "Other",
        "html": "DisplayMagics",
        "javascript": "DisplayMagics",
        "js": "DisplayMagics",
        "latex": "DisplayMagics",
        "perl": "Other",
        "prun": "ExecutionMagics",
        "pypy": "Other",
        "python": "Other",
        "python2": "Other",
        "python3": "Other",
        "ruby": "Other",
        "script": "ScriptMagics",
        "sh": "Other",
        "svg": "DisplayMagics",
        "sx": "OSMagics",
        "system": "OSMagics",
        "time": "ExecutionMagics",
        "timeit": "ExecutionMagics",
        "writefile": "OSMagics"
       },
       "line": {
        "alias": "OSMagics",
        "alias_magic": "BasicMagics",
        "autocall": "AutoMagics",
        "automagic": "AutoMagics",
        "autosave": "KernelMagics",
        "bookmark": "OSMagics",
        "cd": "OSMagics",
        "clear": "KernelMagics",
        "cls": "KernelMagics",
        "colors": "BasicMagics",
        "config": "ConfigMagics",
        "connect_info": "KernelMagics",
        "copy": "Other",
        "ddir": "Other",
        "debug": "ExecutionMagics",
        "dhist": "OSMagics",
        "dirs": "OSMagics",
        "doctest_mode": "BasicMagics",
        "echo": "Other",
        "ed": "Other",
        "edit": "KernelMagics",
        "env": "OSMagics",
        "gui": "BasicMagics",
        "hist": "Other",
        "history": "HistoryMagics",
        "killbgscripts": "ScriptMagics",
        "ldir": "Other",
        "less": "KernelMagics",
        "load": "CodeMagics",
        "load_ext": "ExtensionMagics",
        "loadpy": "CodeMagics",
        "logoff": "LoggingMagics",
        "logon": "LoggingMagics",
        "logstart": "LoggingMagics",
        "logstate": "LoggingMagics",
        "logstop": "LoggingMagics",
        "ls": "Other",
        "lsmagic": "BasicMagics",
        "macro": "ExecutionMagics",
        "magic": "BasicMagics",
        "matplotlib": "PylabMagics",
        "mkdir": "Other",
        "more": "KernelMagics",
        "notebook": "BasicMagics",
        "page": "BasicMagics",
        "pastebin": "CodeMagics",
        "pdb": "ExecutionMagics",
        "pdef": "NamespaceMagics",
        "pdoc": "NamespaceMagics",
        "pfile": "NamespaceMagics",
        "pinfo": "NamespaceMagics",
        "pinfo2": "NamespaceMagics",
        "popd": "OSMagics",
        "pprint": "BasicMagics",
        "precision": "BasicMagics",
        "profile": "BasicMagics",
        "prun": "ExecutionMagics",
        "psearch": "NamespaceMagics",
        "psource": "NamespaceMagics",
        "pushd": "OSMagics",
        "pwd": "OSMagics",
        "pycat": "OSMagics",
        "pylab": "PylabMagics",
        "qtconsole": "KernelMagics",
        "quickref": "BasicMagics",
        "recall": "HistoryMagics",
        "rehashx": "OSMagics",
        "reload_ext": "ExtensionMagics",
        "ren": "Other",
        "rep": "Other",
        "rerun": "HistoryMagics",
        "reset": "NamespaceMagics",
        "reset_selective": "NamespaceMagics",
        "rmdir": "Other",
        "run": "ExecutionMagics",
        "save": "CodeMagics",
        "sc": "OSMagics",
        "set_env": "OSMagics",
        "store": "StoreMagics",
        "sx": "OSMagics",
        "system": "OSMagics",
        "tb": "ExecutionMagics",
        "time": "ExecutionMagics",
        "timeit": "ExecutionMagics",
        "unalias": "OSMagics",
        "unload_ext": "ExtensionMagics",
        "who": "NamespaceMagics",
        "who_ls": "NamespaceMagics",
        "whos": "NamespaceMagics",
        "xdel": "NamespaceMagics",
        "xmode": "BasicMagics"
       }
      },
      "text/plain": [
       "Available line magics:\n",
       "%alias  %alias_magic  %autocall  %automagic  %autosave  %bookmark  %cd  %clear  %cls  %colors  %config  %connect_info  %copy  %ddir  %debug  %dhist  %dirs  %doctest_mode  %echo  %ed  %edit  %env  %gui  %hist  %history  %killbgscripts  %ldir  %less  %load  %load_ext  %loadpy  %logoff  %logon  %logstart  %logstate  %logstop  %ls  %lsmagic  %macro  %magic  %matplotlib  %mkdir  %more  %notebook  %page  %pastebin  %pdb  %pdef  %pdoc  %pfile  %pinfo  %pinfo2  %popd  %pprint  %precision  %profile  %prun  %psearch  %psource  %pushd  %pwd  %pycat  %pylab  %qtconsole  %quickref  %recall  %rehashx  %reload_ext  %ren  %rep  %rerun  %reset  %reset_selective  %rmdir  %run  %save  %sc  %set_env  %store  %sx  %system  %tb  %time  %timeit  %unalias  %unload_ext  %who  %who_ls  %whos  %xdel  %xmode\n",
       "\n",
       "Available cell magics:\n",
       "%%!  %%HTML  %%SVG  %%bash  %%capture  %%cmd  %%debug  %%file  %%html  %%javascript  %%js  %%latex  %%perl  %%prun  %%pypy  %%python  %%python2  %%python3  %%ruby  %%script  %%sh  %%svg  %%sx  %%system  %%time  %%timeit  %%writefile\n",
       "\n",
       "Automagic is ON, % prefix IS NOT needed for line magics."
      ]
     },
     "execution_count": 7,
     "metadata": {},
     "output_type": "execute_result"
    }
   ],
   "source": [
    "%lsmagic"
   ]
  },
  {
   "cell_type": "markdown",
   "metadata": {
    "slideshow": {
     "slide_type": "slide"
    }
   },
   "source": [
    "# Magic commands\n",
    "\n",
    "* `%who` - line magic\n",
    "* `%%timeit` - cell magic\n",
    "* `!echo` - call of OS command"
   ]
  },
  {
   "cell_type": "markdown",
   "metadata": {
    "slideshow": {
     "slide_type": "slide"
    }
   },
   "source": [
    "# Getting help"
   ]
  },
  {
   "cell_type": "code",
   "execution_count": 4,
   "metadata": {
    "collapsed": true
   },
   "outputs": [],
   "source": [
    "%pdb??"
   ]
  },
  {
   "cell_type": "markdown",
   "metadata": {},
   "source": [
    "    Source:\n",
    "        @line_magic\n",
    "        def pdb(self, parameter_s=''):\n",
    "            \"\"\"Control the automatic calling of the pdb interactive debugger.\n",
    "\n",
    "            Call as '%pdb on', '%pdb 1', '%pdb off' or '%pdb 0'. If called without\n",
    "            argument it works as a toggle.\n",
    "\n",
    "            When an exception is triggered, IPython can optionally call the\n",
    "            interactive pdb debugger after the traceback printout. %pdb toggles\n",
    "            this feature on and off.\n",
    "\n",
    "            The initial state of this feature is set in your configuration\n",
    "            file (the option is ``InteractiveShell.pdb``).\n",
    "    ..."
   ]
  },
  {
   "cell_type": "code",
   "execution_count": 6,
   "metadata": {
    "collapsed": false,
    "slideshow": {
     "slide_type": "slide"
    }
   },
   "outputs": [],
   "source": [
    "np.all?"
   ]
  },
  {
   "cell_type": "markdown",
   "metadata": {},
   "source": [
    "    Signature: np.all(a, axis=None, out=None, keepdims=False)\n",
    "    Docstring:\n",
    "    Test whether all array elements along a given axis evaluate to True.\n",
    "\n",
    "    Parameters\n",
    "    ----------\n",
    "    a : array_like\n",
    "        Input array or object that can be converted to an array.\n",
    "    axis : None or int or tuple of ints, optional\n",
    "        Axis or axes along which a logical AND reduction is performed.\n",
    "        The default (`axis` = `None`) is to perform a logical AND over all\n",
    "        the dimensions of the input array. `axis` may be negative, in\n",
    "        which case it counts from the last to the first axis.\n",
    "    ..."
   ]
  },
  {
   "cell_type": "markdown",
   "metadata": {
    "slideshow": {
     "slide_type": "slide"
    }
   },
   "source": [
    "# Books\n",
    "\n",
    "![IPython Cookbook & Minibook](books.jpg)\n",
    "\n",
    "http://ipython-books.github.io/"
   ]
  },
  {
   "cell_type": "markdown",
   "metadata": {
    "slideshow": {
     "slide_type": "slide"
    }
   },
   "source": [
    "# Another intorduction\n",
    "\n",
    "http://arogozhnikov.github.io/2016/09/10/jupyter-features.html"
   ]
  },
  {
   "cell_type": "markdown",
   "metadata": {
    "slideshow": {
     "slide_type": "slide"
    }
   },
   "source": [
    "# Interact\n",
    "\n",
    "## Live demo"
   ]
  },
  {
   "cell_type": "markdown",
   "metadata": {
    "slideshow": {
     "slide_type": "slide"
    }
   },
   "source": [
    "# Future\n",
    "\n",
    "Too much goind on, just some ideas..."
   ]
  },
  {
   "cell_type": "markdown",
   "metadata": {
    "slideshow": {
     "slide_type": "slide"
    }
   },
   "source": [
    "# Jupyter Hub\n",
    "\n",
    "![Jupyter Hub](jhub-parts.png)\n",
    "\n",
    "http://jupyterhub.readthedocs.io/en/latest/"
   ]
  },
  {
   "cell_type": "markdown",
   "metadata": {
    "slideshow": {
     "slide_type": "slide"
    }
   },
   "source": [
    "# JupyterLab\n",
    "\n",
    "![JupyterLab](jlab-screenshot-nb-con-term-2.jpg)\n",
    "\n",
    "https://blog.jupyter.org/2016/07/14/jupyter-lab-alpha/"
   ]
  },
  {
   "cell_type": "markdown",
   "metadata": {
    "slideshow": {
     "slide_type": "slide"
    }
   },
   "source": [
    "# Big Money # 2\n",
    "\n",
    "https://www.techatbloomberg.com/blog/inside-the-collaboration-that-built-the-open-source-jupyterlab-project/\n",
    "\n",
    "![BQPlot](bloomberg_bqplot.png)\n",
    "\n",
    "https://github.com/bloomberg/bqplot"
   ]
  },
  {
   "cell_type": "markdown",
   "metadata": {
    "slideshow": {
     "slide_type": "slide"
    }
   },
   "source": [
    "# Jupyter Incubator\n",
    "\n",
    "![Dashboards](dashboards_intro.jpg)\n",
    "\n",
    "https://github.com/jupyter-incubator/dashboards"
   ]
  },
  {
   "cell_type": "markdown",
   "metadata": {
    "slideshow": {
     "slide_type": "slide"
    }
   },
   "source": [
    "# Thank you\n",
    "\n",
    "Nikolay Karelin\n",
    "\n",
    "skype:nkarelin\n",
    "\n",
    "https://github.com/karelin"
   ]
  }
 ],
 "metadata": {
  "anaconda-cloud": {},
  "celltoolbar": "Slideshow",
  "kernelspec": {
   "display_name": "Python [conda root]",
   "language": "python",
   "name": "conda-root-py"
  },
  "language_info": {
   "codemirror_mode": {
    "name": "ipython",
    "version": 3
   },
   "file_extension": ".py",
   "mimetype": "text/x-python",
   "name": "python",
   "nbconvert_exporter": "python",
   "pygments_lexer": "ipython3",
   "version": "3.5.2"
  }
 },
 "nbformat": 4,
 "nbformat_minor": 1
}
